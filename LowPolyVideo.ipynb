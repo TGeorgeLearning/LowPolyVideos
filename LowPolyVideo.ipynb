{
  "nbformat": 4,
  "nbformat_minor": 0,
  "metadata": {
    "colab": {
      "provenance": []
    },
    "kernelspec": {
      "name": "python3",
      "display_name": "Python 3"
    },
    "language_info": {
      "name": "python"
    }
  },
  "cells": [
    {
      "cell_type": "code",
      "source": [
        "#Final version\n",
        "import cv2\n",
        "import matplotlib.pyplot as plt\n",
        "\n",
        "    # Path to video file\n",
        "vidObj = cv2.VideoCapture(\"replace with your video path\")\n",
        "\n",
        "count = 0\n",
        "\n",
        "success = 1\n",
        "\n",
        "while success:\n",
        "\n",
        "        # vidObj object calls read\n",
        "        # function extract frames\n",
        "  success, image = vidObj.read()\n",
        "\n",
        "  outdir = \"replace with your desired folder to ouput to\"\n",
        "\n",
        "  os.makedirs(outdir, exist_ok=True)\n",
        "  # Names each frame\n",
        "  filepath = os.path.join(outdir, f\"{count}.jpg\")\n",
        "  cv2.imwrite(filepath, image)\n",
        "\n",
        "\n",
        "    # Saves the frames with frame-count\n",
        "\n",
        "  count += 1\n",
        "\n"
      ],
      "metadata": {
        "collapsed": true,
        "id": "DQu_6MuQzU4z"
      },
      "execution_count": null,
      "outputs": []
    },
    {
      "cell_type": "code",
      "execution_count": null,
      "metadata": {
        "id": "EXYzLQsKQ8cX"
      },
      "outputs": [],
      "source": [
        "import pygame\n",
        "import numpy as np\n",
        "import os\n",
        "from scipy.ndimage import gaussian_filter\n",
        "from scipy.spatial import Delaunay\n",
        "from collections import defaultdict\n",
        "import matplotlib.pyplot as plt\n",
        "import pygame.gfxdraw\n",
        "\n",
        "def final(image):\n",
        "    inp = pygame.surfarray.pixels3d(pygame.image.load(image))\n",
        "    perceptual_weight = np.array([0.2126, 0.7152, 0.0722])\n",
        "    grayscale = (inp * perceptual_weight).sum(axis=-1)\n",
        "    x = gaussian_filter(grayscale, 2, mode=\"reflect\")\n",
        "    x2 = gaussian_filter(grayscale, 30, mode=\"reflect\")\n",
        "\n",
        "    diff = (x - x2)\n",
        "    diff[diff < 0] *= 0.1\n",
        "    diff = np.sqrt(np.abs(diff) / diff.max())\n",
        "\n",
        "    def sample(ref, n=1000000):\n",
        "        np.random.seed(0)\n",
        "        w, h = x.shape\n",
        "        xs = np.random.randint(0, w, size=n)\n",
        "        ys = np.random.randint(0, h, size=n)\n",
        "        value = ref[xs, ys]\n",
        "        accept = np.random.random(size=n) < value\n",
        "        points = np.array([xs[accept], ys[accept]])\n",
        "        return points.T, value[accept]\n",
        "\n",
        "    samples, v = sample(diff)\n",
        "    plt.scatter(samples[:, 0], -samples[:, 1], c=v, s=0.2, edgecolors=\"none\", cmap=\"viridis\")\n",
        "\n",
        "    def get_colour_of_tri(tri, image):\n",
        "        colours = defaultdict(lambda: [])\n",
        "        w, h, _ = image.shape\n",
        "        for i in range(0, w):\n",
        "            for j in range(0, h):\n",
        "                index = tri.find_simplex((i, j))\n",
        "                colours[int(index)].append(inp[i, j, :])\n",
        "        for index, array in colours.items():\n",
        "            colours[index] = np.array(array).mean(axis=0)\n",
        "        return colours\n",
        "\n",
        "    def draw(tri, colours, screen, upscale):\n",
        "        s = screen.copy()\n",
        "        for key, c in colours.items():\n",
        "            t = tri.points[tri.simplices[key]]\n",
        "            pygame.gfxdraw.filled_polygon(s, t * upscale, c)\n",
        "            pygame.gfxdraw.polygon(s, t * upscale, c)\n",
        "        return s\n",
        "\n",
        "    w, h, _ = inp.shape\n",
        "    upscale = 2\n",
        "    screen = pygame.Surface((w * upscale, h * upscale))\n",
        "    screen.fill(inp.mean(axis=(0, 1)))\n",
        "    corners = np.array([(0, 0), (0, h - 1), (w - 1, 0), (w - 1, h - 1)])\n",
        "    points = np.concatenate((corners, samples))\n",
        "\n",
        "    outdir = \"replace with the desired folder to output to\"\n",
        "    os.makedirs(outdir, exist_ok=True)\n",
        "    # Higher i value = Clearer image\n",
        "    i=40\n",
        "    n = 5 + i + 2 * int(i**2)\n",
        "    tri = Delaunay(points[:n, :])\n",
        "    colours = get_colour_of_tri(tri, inp)\n",
        "    s = draw(tri, colours, screen, upscale)\n",
        "    s = pygame.transform.smoothscale(s, (w, h))\n",
        "    pygame.image.save(s, f\"(replace with the desired folder to output to)/{count}.png\")"
      ]
    },
    {
      "cell_type": "code",
      "source": [
        "count=0;\n",
        "\n",
        "for i in range (232):\n",
        "  count=i\n",
        "  final(f\"(replace with the desired folder to take the frames from)/{i}.jpg\")\n",
        "  print(i)\n"
      ],
      "metadata": {
        "id": "zIwv3SgAXhNf"
      },
      "execution_count": null,
      "outputs": []
    },
    {
      "cell_type": "code",
      "source": [
        "import os\n",
        "\n",
        "frameArr = []\n",
        "folder_path = '(replace with the desired folder to take the new frames from)'\n",
        "contents = os.listdir(folder_path)\n",
        "\n",
        "# Since the files are not in order, the line below helps to organise them\n",
        "contents.sort(key=lambda x: int(''.join(filter(str.isdigit, x))))\n",
        "\n",
        "for paths in contents:\n",
        "    frameArr.append(folder_path + paths)\n",
        "    print(frameArr[-1])  # Prints the most recently added path in frameArr"
      ],
      "metadata": {
        "id": "B98RC7v-XPsf"
      },
      "execution_count": null,
      "outputs": []
    },
    {
      "cell_type": "code",
      "source": [
        "import cv2\n",
        "import os\n",
        "from google.colab import files\n",
        "\n",
        "\n",
        "\n",
        "if len(frameArr) == 0:\n",
        "    print(\"No images found!\")\n",
        "else:\n",
        "    img = cv2.imread(frameArr[0])\n",
        "    height, width, layers = img.shape\n",
        "    size = (width, height)\n",
        "\n",
        "    fourcc = cv2.VideoWriter_fourcc(*'mp4v')\n",
        "    fps = 25  # Frames per second\n",
        "    out = cv2.VideoWriter('/content/videos_output.mp4', fourcc, fps, size)\n",
        "\n",
        "    for image_path in frameArr:\n",
        "        img = cv2.imread(image_path)\n",
        "        out.write(img) # Writes each frame\n",
        "\n",
        "    out.release()\n",
        "    print(\"Video saved as '/content/videos_output.mp4'\")\n",
        "    files.download('/content/videos_output.mp4')\n"
      ],
      "metadata": {
        "id": "sY1MGnqXLscO"
      },
      "execution_count": null,
      "outputs": []
    }
  ]
}